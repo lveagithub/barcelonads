{
 "cells": [
  {
   "cell_type": "markdown",
   "metadata": {},
   "source": [
    "# <span style=color:darkblue>Introduction to Linear Regression</span>"
   ]
  },
  {
   "cell_type": "markdown",
   "metadata": {},
   "source": [
    "<span style=color:blue><b>Simple or single-variate linear regression</b></span> is the simplest case of linear regression with a single independent variable, $\\:x\\:$."
   ]
  },
  {
   "cell_type": "markdown",
   "metadata": {},
   "source": [
    "<div class=\"alert alert-block alert-warning\"><b><u>Linear regression</u></b>   \n",
    "$%$   \n",
    "\n",
    "<span style=color:blue><b><u>Linear regression</u></b></span> assumes that the relationship <b>between two variables</b>, <span style=color:blue>$\\:x\\:$</span> and <span style=color:blue>$\\:y\\:$</span>, can be modeled by a <b>straight line</b> :   \n",
    "$%$   \n",
    "\\begin{align*}y\\:=\\:\\beta_0\\:+\\:\\beta_1x\\:+\\:\\epsilon\\end{align*}   \n",
    "$%$   \n",
    "where $\\:\\beta_0\\:$ and $\\:\\beta_1\\:$ represent <i>two model parameters</i>, the <b><u>regression coefficients</u></b> ($\\:\\beta\\:$ is the Greek letter $beta$). These <b>parameters</b> are estimated using data, and we write their <span style=color:blue>point estimates</span> as <span style=color:blue>$b_0\\:$</span> and <span style=color:blue>$b_1\\:$</span> and $\\:\\epsilon\\:$ is the <b><u>random error</u></b>.   \n",
    "$%$   \n",
    "When we use <span style=color:blue>$\\:x\\:$</span> (<b>input</b> data) to predict <span style=color:blue>$\\:y\\:$</span> (<b>outputs</b>), we can call <span style=color:blue>$\\:x\\:$</span> the <b>explanatory</b>, <b>predictor</b> or <b>independent</b> variable, and we call <span style=color:blue>$\\:y\\:$</span> the <b>response</b> or <b>dependent</b> variable."
   ]
  },
  {
   "cell_type": "code",
   "execution_count": 1,
   "metadata": {},
   "outputs": [
    {
     "data": {
      "text/plain": [
       "<Figure size 640x480 with 1 Axes>"
      ]
     },
     "metadata": {},
     "output_type": "display_data"
    }
   ],
   "source": [
    "import pandas as pd\n",
    "import numpy as np\n",
    "from sklearn import datasets, linear_model\n",
    "from sklearn.metrics import mean_squared_error, r2_score\n",
    "import matplotlib.pyplot as plt\n",
    "\n",
    "df = pd.read_csv(\"C:\\\\Users\\\\dataBCN\\\\OneDrive - NETMIND\\\\Empreses\\\\Crash Courses\\\\DS Crash Course\\\\Naturgy\\\\Module III\\\\data\\\\2008.csv\",nrows = 10000)\n",
    "\n",
    "df = df.dropna(subset = [\"ArrDelay\"]) # Elimiar NAs basándose en columnas de interés\n",
    "\n",
    "\n",
    "plt.scatter(df.DepDelay,df.ArrDelay,color = \"black\")\n",
    "plt.show()"
   ]
  },
  {
   "cell_type": "markdown",
   "metadata": {},
   "source": [
    "<div class=\"alert alert-block alert-warning\"><u><b>Correlation :</b> strength of a linear relationship</u>   \n",
    "$%$   \n",
    "\n",
    "<b>Correlation</b>, which always takes values <b>between -1 and 1</b>, describes the <b>strength</b> of the <b>linear relationship</b> between <b>two variables</b>. We denote the <b>correlation</b> by $\\:R\\:$.   \n",
    "$%$   \n",
    "\n",
    "Only when the <b><i>relationship is perfectly linear</i></b> is the <b>correlation</b> either <b>-1</b> or <b>1</b>.   \n",
    "\n",
    "- If the relationship is <b>strong</b> and <b>positive</b>, the <b>correlation</b> will be <b>near +1.</b>   \n",
    "- If it is <b>strong</b> and <b>negative</b>, it will be <b>near -1</b>.   \n",
    "- If there is <b><u>no apparent linear relationship</u></b> between the <b>variables</b>, then the <b>correlation</b> will be <b>near zero</b>.\n",
    "</div>"
   ]
  },
  {
   "cell_type": "code",
   "execution_count": 2,
   "metadata": {},
   "outputs": [
    {
     "data": {
      "text/plain": [
       "array([[1.        , 0.95453694],\n",
       "       [0.95453694, 1.        ]])"
      ]
     },
     "execution_count": 2,
     "metadata": {},
     "output_type": "execute_result"
    }
   ],
   "source": [
    "np.corrcoef(df.DepDelay,df.ArrDelay)"
   ]
  },
  {
   "cell_type": "markdown",
   "metadata": {},
   "source": [
    "## <span style=color:darkgreen>Fitting a line by least squares regression</span>"
   ]
  },
  {
   "cell_type": "markdown",
   "metadata": {},
   "source": [
    "Scatterplots were introduced as a graphical technique to present two numerical variables simultaneously. Such plots permit the relationship between the variables to be examined with ease.   \n",
    "\n",
    "Straight lines should only be used when the data appear to have a linear relationship."
   ]
  },
  {
   "cell_type": "markdown",
   "metadata": {},
   "source": [
    "### <span style=color:darkred>An objective measure for finding the best line</span>"
   ]
  },
  {
   "cell_type": "markdown",
   "metadata": {},
   "source": [
    "<div class=\"alert alert-block alert-warning\"><u><b>What do we mean by “Best” ?</b></u>   \n",
    "$%$   .   \n",
    "\n",
    "Mathematically, we want a <b>line that has small residuals</b>. We could apply a <b>criteria</b> that could <b><u>minimize</u></b> the <b><u>Sum of the Residual (SR)</u></b> magnitudes :   \n",
    "$%$   \n",
    "\\begin{align*}SR\\:=\\:e_1 + e_2 + · · · + e_n\\end{align*}   \n",
    "$%$   \n",
    "However, a more common practice is to choose the <b>line that minimizes</b> the <b><u>Sum of the Squared Residuals (SSR)</u></b>:   \n",
    "$%$  \n",
    "\\begin{align*}SSR\\:=\\:e^{2}_1 + e^{2}_2 + · · · + e^{2}_n\\end{align*}\n",
    "</div>"
   ]
  },
  {
   "cell_type": "markdown",
   "metadata": {},
   "source": [
    "### <span style=color:darkred>Conditions for the least squares line</span>"
   ]
  },
  {
   "cell_type": "markdown",
   "metadata": {},
   "source": [
    "When fitting a least squares line, we generally require :    \n",
    "\n",
    "- <span style=color:blue><b><u>Linearity</u></b></span>. The data should show a <span style=color:blue>linear trend</span>. If there is a nonlinear trend, an advanced regression method should be applied.   \n",
    "$%$   \n",
    "- <span style=color:blue><b><u>Nearly normal residuals</u></b></span>. Generally the <span style=color:blue>residuals must be nearly normal</span>. When this condition is found to be unreasonable, it is usually because of <b>outliers</b> or concerns about <b>influential points</b>.   \n",
    "$%$   \n",
    "- <span style=color:blue><b><u>Constant variability</u></b></span>. The <b>variability of points</b> around the <span style=color:blue>least squares line</span> remains roughly <b>constant</b>.   \n",
    "$%$   \n",
    "- <span style=color:blue><b><u>Independent observations</u></b></span>. Be cautious about applying regression to time series data, which are sequential observations in time such as a stock price each day. Such data may have an underlying structure that should be considered in a model and analysis."
   ]
  },
  {
   "cell_type": "markdown",
   "metadata": {},
   "source": [
    "### <span style=color:darkred>Finding the least squares line</span>"
   ]
  },
  {
   "cell_type": "markdown",
   "metadata": {},
   "source": [
    "<div class=\"alert alert-block alert-warning\">\n",
    "<b>Parameters</b> are <b>estimated</b> using <b>observed data</b>. we can also find the <b>parameter estimates</b> by applying <u>two properties</u> of the <b>least squares line</b>:   \n",
    "\n",
    "- The <b><u>slope</u> of the least squares line</b> can be estimated by :   \n",
    "$%$   \n",
    "\\begin{align*}b_1 = \\frac{s_y}{s_x}R\\end{align*}   \n",
    "$%$   \n",
    "where <b>$\\:R\\:$</b> is the <span style=color:blue>correlation</span> between the <b>two variables</b>, and $\\:s_x\\:$ and $\\:s_y\\:$ are the <span style=color:blue>sample standard deviations</span> of the <b>explanatory variable</b> and <b>response</b>, respectively.   \n",
    "$%$   \n",
    "\n",
    "- If <span style=color:blue>$\\:\\hat{x}\\:$</span> is the <span style=color:blue><b>mean of the horizontal variable</b></span> (from the data) and <span style=color:blue>$\\:\\bar{y}\\:$</span> is the <span style=color:blue><b>mean of the vertical variable</b></span> then the point <span style=color:blue>($\\bar{x},\\:\\bar{y}$)</span> is on the <span style=color:blue>least squares line</span>.   \n",
    "$%$   \n",
    "We use <span style=color:blue>$\\:b_0\\:$</span> and <span style=color:blue>$\\:b_1\\:$</span> to represent the <span style=color:blue><b>point estimates</b> of the parameters</span> <span style=color:blue>$\\:\\beta_0\\:$</span> and <span style=color:blue>$\\:\\beta_1\\:$</span>."
   ]
  },
  {
   "cell_type": "code",
   "execution_count": 3,
   "metadata": {},
   "outputs": [],
   "source": [
    "Y = df[\"ArrDelay\"]\n",
    "X = df[[\"DepDelay\"]]\n",
    "\n",
    "regr = linear_model.LinearRegression()\n",
    "regr.fit(X, Y)\n",
    "Y_pred = regr.predict(X)"
   ]
  },
  {
   "cell_type": "code",
   "execution_count": 4,
   "metadata": {},
   "outputs": [
    {
     "data": {
      "image/png": "[encoded data removed]",
      "text/plain": [
       "<Figure size 432x288 with 1 Axes>"
      ]
     },
     "metadata": {
      "needs_background": "light"
     },
     "output_type": "display_data"
    }
   ],
   "source": [
    "plt.scatter(X,Y,color = \"black\")\n",
    "plt.plot(X,Y_pred,color=\"Blue\")\n",
    "plt.show()"
   ]
  },
  {
   "cell_type": "markdown",
   "metadata": {},
   "source": [
    "We <span style=color:blue>evaluated the strength of the linear relationship between two variables</span> earlier using the <span style=color:blue><u><b>correlation</b>, $\\:R\\:$</u></span>.   \n",
    "$%$   \n",
    "However, it is more common to explain the <span style=color:blue><u><b>strength of a linear fit</b></u></span> using <span style=color:blue>$\\:R^2\\:$, called <b>R-squared</b></span>. If provided with a linear model, we might like to describe how closely the data cluster around the linear fit.   \n",
    "$%$   \n",
    "The <span style=color:blue>$\\:R^2\\:$</span> of a <b>linear model</b> describes the <span style=color:blue>amount of variation in the response</span> that is <b>explained</b> by the <span style=color:blue>least squares line</span>.    \n",
    "$%$   \n"
   ]
  },
  {
   "cell_type": "code",
   "execution_count": 5,
   "metadata": {},
   "outputs": [
    {
     "name": "stdout",
     "output_type": "stream",
     "text": [
      "R cuadrado:  0.911140771253595\n"
     ]
    }
   ],
   "source": [
    "print(\"R cuadrado: \",r2_score(Y, Y_pred))"
   ]
  },
  {
   "cell_type": "markdown",
   "metadata": {},
   "source": [
    "It is the same that the square of the correlation"
   ]
  },
  {
   "cell_type": "code",
   "execution_count": 6,
   "metadata": {},
   "outputs": [
    {
     "data": {
      "text/plain": [
       "0.9111407712535954"
      ]
     },
     "execution_count": 6,
     "metadata": {},
     "output_type": "execute_result"
    }
   ],
   "source": [
    "np.corrcoef(df.DepDelay,df.ArrDelay)[0,1] ** 2"
   ]
  },
  {
   "cell_type": "markdown",
   "metadata": {},
   "source": [
    "<div class=\"alert alert-block alert-warning\"><b><u>Residuals</u></b>   \n",
    "$%$   \n",
    "\n",
    "<span style=color:blue><b><u>Residuals</u></b></span> are the <b>leftover variation</b> in the data <b>after</b> accounting for the <b>model fit</b>:   \n",
    "$%$   \n",
    "\\begin{align*}Data\\:=\\:Fit\\:+\\:Residual\\end{align*}   \n",
    "$%$   \n",
    "Each <b>observation</b> will have a <b>residual</b>.   \n",
    "\n",
    "- If an <b>observation</b> is above the regression line, then its <b>residual</b>, the <i>vertical distance</i> from the <b>observation</b> to the <b>line</b>, is <u>positive</u>.   \n",
    "$%$   \n",
    "- <b>Observations</b> below the <b>line</b> have <b>negative residuals</b>.   \n",
    "$%$   \n",
    "One goal in picking the right linear model is for these <b>residuals</b> to be <i><b>as small as</b> possible</i>.   \n",
    "$%$   \n",
    "<b><u>Difference between Observed and Expected</u></b>   \n",
    "$%$      \n",
    "The <b>residual</b> of the $\\:i^{th}\\:$ <b>observation</b> ($\\:x_i\\:,\\:y_i\\:$) is the <b>difference</b> of the <b><u>observed response</u></b> ($\\:y_i\\:$) and the <b><u>response</u></b> we would <b>predict</b> based on the <b><u>model fit</u></b> ($\\:\\hat{y}_{i}\\:$) :   \n",
    "\n",
    "\\begin{align*}e_i\\:=\\:y_i\\:−\\:\\hat{y}_{i}\\end{align*}   \n",
    "$%$   \n",
    "We typically <b>identify $\\:\\hat{y}_{i}\\:$ by plugging $\\:x_i\\:$ <u>into the model</u></b>.\n",
    "</div>"
   ]
  },
  {
   "cell_type": "markdown",
   "metadata": {},
   "source": [
    "<b>Residuals</b> are helpful in <b>evaluating</b> how well a <span style=color.blue>linear model fits</span> a dataset. We often display them in a <span style=color:blue><b>residual plot</b></span>.   \n",
    "\n",
    "One purpose of residual plots is to identify characteristics or patterns still apparent in data after fitting a model."
   ]
  },
  {
   "cell_type": "markdown",
   "metadata": {},
   "source": [
    "### A more advanced approach"
   ]
  },
  {
   "cell_type": "code",
   "execution_count": 7,
   "metadata": {},
   "outputs": [
    {
     "name": "stdout",
     "output_type": "stream",
     "text": [
      "                            OLS Regression Results                            \n",
      "==============================================================================\n",
      "Dep. Variable:                      y   R-squared:                       0.911\n",
      "Model:                            OLS   Adj. R-squared:                  0.911\n",
      "Method:                 Least Squares   F-statistic:                 1.006e+05\n",
      "Date:                Fri, 13 Nov 2020   Prob (F-statistic):               0.00\n",
      "Time:                        15:48:29   Log-Likelihood:                -36842.\n",
      "No. Observations:                9811   AIC:                         7.369e+04\n",
      "Df Residuals:                    9809   BIC:                         7.370e+04\n",
      "Df Model:                           1                                         \n",
      "Covariance Type:            nonrobust                                         \n",
      "==============================================================================\n",
      "                 coef    std err          t      P>|t|      [0.025      0.975]\n",
      "------------------------------------------------------------------------------\n",
      "Intercept     -4.4518      0.124    -35.902      0.000      -4.695      -4.209\n",
      "x              1.0073      0.003    317.142      0.000       1.001       1.013\n",
      "==============================================================================\n",
      "Omnibus:                     1905.112   Durbin-Watson:                   1.225\n",
      "Prob(Omnibus):                  0.000   Jarque-Bera (JB):            10822.426\n",
      "Skew:                           0.814   Prob(JB):                         0.00\n",
      "Kurtosis:                       7.881   Cond. No.                         46.4\n",
      "==============================================================================\n",
      "\n",
      "Warnings:\n",
      "[1] Standard Errors assume that the covariance matrix of the errors is correctly specified.\n"
     ]
    },
    {
     "name": "stderr",
     "output_type": "stream",
     "text": [
      "C:\\ProgramData\\Anaconda3\\lib\\site-packages\\statsmodels\\compat\\pandas.py:49: FutureWarning: The Panel class is removed from pandas. Accessing it from the top-level namespace will also be removed in the next version\n",
      "  data_klasses = (pandas.Series, pandas.DataFrame, pandas.Panel)\n"
     ]
    }
   ],
   "source": [
    "import statsmodels.formula.api as smf\n",
    "\n",
    "data = {\"x\" : X, \"y\" : Y}\n",
    "\n",
    "model = smf.ols('y ~ x', data=data).fit()\n",
    "\n",
    "print(model.summary())"
   ]
  },
  {
   "cell_type": "code",
   "execution_count": 8,
   "metadata": {
    "scrolled": true
   },
   "outputs": [
    {
     "data": {
      "image/png": "[encoded data removed]",
      "text/plain": [
       "<Figure size 432x288 with 1 Axes>"
      ]
     },
     "metadata": {
      "needs_background": "light"
     },
     "output_type": "display_data"
    },
    {
     "name": "stdout",
     "output_type": "stream",
     "text": [
      "Mean: -0.0\n"
     ]
    }
   ],
   "source": [
    "errors = Y - Y_pred\n",
    "\n",
    "plt.hist(errors,bins = 100)\n",
    "plt.xlim([-100,100])\n",
    "plt.show()\n",
    "\n",
    "print(\"Mean:\",round(np.mean(errors),4))"
   ]
  },
  {
   "cell_type": "markdown",
   "metadata": {},
   "source": [
    "## Final Exercises:\n",
    "\n",
    "1. Define a matrix of correlations to identify interesting variables\n",
    "\n",
    "2. Try to adjust a model using other variables of the 2008.csv dataset, for example using AirTime, Distance, one of the Delays... up to you!\n",
    "\n",
    "3. Try to find a pair of variables where the slope of the regression model is not significant (could be 0). Would be interesting to solve this problem using a loop\n",
    "\n",
    "4. We don't know yet how to deal with categorical variables as predictors... explore what are the dummy variables, because we are going to need it!\n",
    "\n"
   ]
  },
  {
   "cell_type": "code",
   "execution_count": null,
   "metadata": {},
   "outputs": [],
   "source": []
  }
 ],
 "metadata": {
  "kernelspec": {
   "display_name": "Python 3",
   "language": "python",
   "name": "python3"
  },
  "language_info": {
   "codemirror_mode": {
    "name": "ipython",
    "version": 3
   },
   "file_extension": ".py",
   "mimetype": "text/x-python",
   "name": "python",
   "nbconvert_exporter": "python",
   "pygments_lexer": "ipython3",
   "version": "3.7.3"
  }
 },
 "nbformat": 4,
 "nbformat_minor": 2
}
