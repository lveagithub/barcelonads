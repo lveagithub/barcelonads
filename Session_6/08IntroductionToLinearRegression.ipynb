{
 "cells": [
  {
   "attachments": {
    "BTS_small.jpg": {
     "image/jpeg": "[encoded data removed]"
    }
   },
   "cell_type": "markdown",
   "metadata": {},
   "source": [
    "![BTS_small.jpg](attachment:BTS_small.jpg)"
   ]
  },
  {
   "cell_type": "markdown",
   "metadata": {},
   "source": [
    "# <span style=color:darkblue>Introduction to Linear Regression</span>"
   ]
  },
  {
   "cell_type": "markdown",
   "metadata": {},
   "source": [
    "<span style=color:blue><b>Simple or single-variate linear regression</b></span> is the simplest case of linear regression with a single independent variable, $\\:x\\:$."
   ]
  },
  {
   "cell_type": "markdown",
   "metadata": {},
   "source": [
    "<div class=\"alert alert-block alert-warning\"><b><u>Linear regression</u></b>   \n",
    "$%$   \n",
    "\n",
    "<span style=color:blue><b><u>Linear regression</u></b></span> assumes that the relationship <b>between two variables</b>, <span style=color:blue>$\\:x\\:$</span> and <span style=color:blue>$\\:y\\:$</span>, can be modeled by a <b>straight line</b> :   \n",
    "$%$   \n",
    "\\begin{align*}y\\:=\\:\\beta_0\\:+\\:\\beta_1x\\:+\\:\\epsilon\\end{align*}   \n",
    "$%$   \n",
    "where $\\:\\beta_0\\:$ and $\\:\\beta_1\\:$ represent <i>two model parameters</i>, the <b><u>regression coefficients</u></b> ($\\:\\beta\\:$ is the Greek letter $beta$). These <b>parameters</b> are estimated using data, and we write their <span style=color:blue>point estimates</span> as <span style=color:blue>$b_0\\:$</span> and <span style=color:blue>$b_1\\:$</span> and $\\:\\epsilon\\:$ is the <b><u>random error</u></b>.   \n",
    "$%$   \n",
    "When we use <span style=color:blue>$\\:x\\:$</span> (<b>input</b> data) to predict <span style=color:blue>$\\:y\\:$</span> (<b>outputs</b>), we can call <span style=color:blue>$\\:x\\:$</span> the <b>explanatory</b>, <b>predictor</b> or <b>independent</b> variable, and we call <span style=color:blue>$\\:y\\:$</span> the <b>response</b> or <b>dependent</b> variable."
   ]
  },
  {
   "cell_type": "code",
   "execution_count": 2,
   "metadata": {
    "ExecuteTime": {
     "end_time": "2019-11-12T23:53:40.034580Z",
     "start_time": "2019-11-12T23:53:35.304888Z"
    }
   },
   "outputs": [
    {
     "ename": "ModuleNotFoundError",
     "evalue": "No module named 'researchpy'",
     "output_type": "error",
     "traceback": [
      "\u001b[0;31m---------------------------------------------------------------------------\u001b[0m",
      "\u001b[0;31mModuleNotFoundError\u001b[0m                       Traceback (most recent call last)",
      "\u001b[0;32m<ipython-input-2-dfb632520a6c>\u001b[0m in \u001b[0;36m<module>\u001b[0;34m\u001b[0m\n\u001b[1;32m      6\u001b[0m \u001b[0;32mimport\u001b[0m \u001b[0mstatsmodels\u001b[0m\u001b[0;34m.\u001b[0m\u001b[0mapi\u001b[0m \u001b[0;32mas\u001b[0m \u001b[0msm\u001b[0m\u001b[0;34m\u001b[0m\u001b[0;34m\u001b[0m\u001b[0m\n\u001b[1;32m      7\u001b[0m \u001b[0;32mimport\u001b[0m \u001b[0mstatsmodels\u001b[0m\u001b[0;34m.\u001b[0m\u001b[0mformula\u001b[0m\u001b[0;34m.\u001b[0m\u001b[0mapi\u001b[0m \u001b[0;32mas\u001b[0m \u001b[0msmf\u001b[0m\u001b[0;34m\u001b[0m\u001b[0;34m\u001b[0m\u001b[0m\n\u001b[0;32m----> 8\u001b[0;31m \u001b[0;32mimport\u001b[0m \u001b[0mresearchpy\u001b[0m \u001b[0;32mas\u001b[0m \u001b[0mrp\u001b[0m\u001b[0;34m\u001b[0m\u001b[0;34m\u001b[0m\u001b[0m\n\u001b[0m\u001b[1;32m      9\u001b[0m \u001b[0;32mimport\u001b[0m \u001b[0mstatsmodels\u001b[0m\u001b[0;34m.\u001b[0m\u001b[0mapi\u001b[0m \u001b[0;32mas\u001b[0m \u001b[0msm\u001b[0m\u001b[0;34m\u001b[0m\u001b[0;34m\u001b[0m\u001b[0m\n\u001b[1;32m     10\u001b[0m \u001b[0;32mimport\u001b[0m \u001b[0mseaborn\u001b[0m \u001b[0;32mas\u001b[0m \u001b[0msns\u001b[0m\u001b[0;34m\u001b[0m\u001b[0;34m\u001b[0m\u001b[0m\n",
      "\u001b[0;31mModuleNotFoundError\u001b[0m: No module named 'researchpy'"
     ]
    }
   ],
   "source": [
    "# import libraries needed\n",
    "import os\n",
    "import pandas as pd\n",
    "import numpy as np\n",
    "import scipy.stats as stats\n",
    "import statsmodels.api as sm\n",
    "import statsmodels.formula.api as smf\n",
    "import researchpy as rp\n",
    "import statsmodels.api as sm\n",
    "import seaborn as sns\n",
    "from sklearn.linear_model import LinearRegression\n",
    "from sklearn import metrics\n",
    "\n",
    "from sklearn.model_selection import train_test_split\n",
    "\n",
    "from statsmodels.formula.api import ols\n",
    "    \n",
    "import matplotlib.pyplot as plt\n",
    "\n",
    "import warnings\n",
    "warnings.filterwarnings('ignore')"
   ]
  },
  {
   "cell_type": "markdown",
   "metadata": {},
   "source": [
    "## <span style=color:darkgreen>Correlation, Residuals, and Line Fitting</span>"
   ]
  },
  {
   "cell_type": "markdown",
   "metadata": {},
   "source": [
    "### <span style=color:darkred>Describing linear relationships with correlation</span>"
   ]
  },
  {
   "cell_type": "markdown",
   "metadata": {},
   "source": [
    "we examine criteria for identifying a linear model and introduce a new statistic, <span style=color:blue><i>correlation</i></span>.   "
   ]
  },
  {
   "cell_type": "markdown",
   "metadata": {},
   "source": [
    "<div class=\"alert alert-block alert-warning\"><u><b>Correlation :</b> strength of a linear relationship</u>   \n",
    "$%$   \n",
    "\n",
    "<b>Correlation</b>, which always takes values <b>between -1 and 1</b>, describes the <b>strength</b> of the <b>linear relationship</b> between <b>two variables</b>. We denote the <b>correlation</b> by $\\:R\\:$.   \n",
    "$%$   \n",
    "\n",
    "Only when the <b><i>relationship is perfectly linear</i></b> is the <b>correlation</b> either <b>-1</b> or <b>1</b>.   \n",
    "\n",
    "- If the relationship is <b>strong</b> and <b>positive</b>, the <b>correlation</b> will be <b>near +1.</b>   \n",
    "- If it is <b>strong</b> and <b>negative</b>, it will be <b>near -1</b>.   \n",
    "- If there is <b><u>no apparent linear relationship</u></b> between the <b>variables</b>, then the <b>correlation</b> will be <b>near zero</b>.\n",
    "</div>"
   ]
  },
  {
   "cell_type": "code",
   "execution_count": 3,
   "metadata": {
    "ExecuteTime": {
     "end_time": "2019-11-12T23:53:40.581450Z",
     "start_time": "2019-11-12T23:53:40.519451Z"
    }
   },
   "outputs": [
    {
     "ename": "FileNotFoundError",
     "evalue": "[Errno 2] File b'D:\\\\Documents\\\\EureCat\\\\Eurecat 2019\\\\BTS\\\\Datasets\\\\county.txt' does not exist: b'D:\\\\Documents\\\\EureCat\\\\Eurecat 2019\\\\BTS\\\\Datasets\\\\county.txt'",
     "output_type": "error",
     "traceback": [
      "\u001b[0;31m---------------------------------------------------------------------------\u001b[0m",
      "\u001b[0;31mFileNotFoundError\u001b[0m                         Traceback (most recent call last)",
      "\u001b[0;32m<ipython-input-3-90667c2ddcc6>\u001b[0m in \u001b[0;36m<module>\u001b[0;34m\u001b[0m\n\u001b[1;32m      1\u001b[0m \u001b[0;31m# Load dataset\u001b[0m\u001b[0;34m\u001b[0m\u001b[0;34m\u001b[0m\u001b[0;34m\u001b[0m\u001b[0m\n\u001b[0;32m----> 2\u001b[0;31m \u001b[0mcounty\u001b[0m \u001b[0;34m=\u001b[0m \u001b[0mpd\u001b[0m\u001b[0;34m.\u001b[0m\u001b[0mread_csv\u001b[0m\u001b[0;34m(\u001b[0m\u001b[0;34m'D:\\\\Documents\\\\EureCat\\\\Eurecat 2019\\\\BTS\\\\Datasets\\\\county.txt'\u001b[0m\u001b[0;34m,\u001b[0m \u001b[0msep\u001b[0m\u001b[0;34m=\u001b[0m\u001b[0;34m'\\t'\u001b[0m\u001b[0;34m,\u001b[0m \u001b[0mencoding\u001b[0m\u001b[0;34m=\u001b[0m\u001b[0;34m'utf-8'\u001b[0m\u001b[0;34m)\u001b[0m\u001b[0;34m\u001b[0m\u001b[0;34m\u001b[0m\u001b[0m\n\u001b[0m\u001b[1;32m      3\u001b[0m \u001b[0mcounty\u001b[0m\u001b[0;34m.\u001b[0m\u001b[0mhead\u001b[0m\u001b[0;34m(\u001b[0m\u001b[0;34m)\u001b[0m\u001b[0;34m\u001b[0m\u001b[0;34m\u001b[0m\u001b[0m\n",
      "\u001b[0;32m/home/scientist/anaconda3/lib/python3.7/site-packages/pandas/io/parsers.py\u001b[0m in \u001b[0;36mparser_f\u001b[0;34m(filepath_or_buffer, sep, delimiter, header, names, index_col, usecols, squeeze, prefix, mangle_dupe_cols, dtype, engine, converters, true_values, false_values, skipinitialspace, skiprows, skipfooter, nrows, na_values, keep_default_na, na_filter, verbose, skip_blank_lines, parse_dates, infer_datetime_format, keep_date_col, date_parser, dayfirst, iterator, chunksize, compression, thousands, decimal, lineterminator, quotechar, quoting, doublequote, escapechar, comment, encoding, dialect, tupleize_cols, error_bad_lines, warn_bad_lines, delim_whitespace, low_memory, memory_map, float_precision)\u001b[0m\n\u001b[1;32m    700\u001b[0m                     skip_blank_lines=skip_blank_lines)\n\u001b[1;32m    701\u001b[0m \u001b[0;34m\u001b[0m\u001b[0m\n\u001b[0;32m--> 702\u001b[0;31m         \u001b[0;32mreturn\u001b[0m \u001b[0m_read\u001b[0m\u001b[0;34m(\u001b[0m\u001b[0mfilepath_or_buffer\u001b[0m\u001b[0;34m,\u001b[0m \u001b[0mkwds\u001b[0m\u001b[0;34m)\u001b[0m\u001b[0;34m\u001b[0m\u001b[0;34m\u001b[0m\u001b[0m\n\u001b[0m\u001b[1;32m    703\u001b[0m \u001b[0;34m\u001b[0m\u001b[0m\n\u001b[1;32m    704\u001b[0m     \u001b[0mparser_f\u001b[0m\u001b[0;34m.\u001b[0m\u001b[0m__name__\u001b[0m \u001b[0;34m=\u001b[0m \u001b[0mname\u001b[0m\u001b[0;34m\u001b[0m\u001b[0;34m\u001b[0m\u001b[0m\n",
      "\u001b[0;32m/home/scientist/anaconda3/lib/python3.7/site-packages/pandas/io/parsers.py\u001b[0m in \u001b[0;36m_read\u001b[0;34m(filepath_or_buffer, kwds)\u001b[0m\n\u001b[1;32m    427\u001b[0m \u001b[0;34m\u001b[0m\u001b[0m\n\u001b[1;32m    428\u001b[0m     \u001b[0;31m# Create the parser.\u001b[0m\u001b[0;34m\u001b[0m\u001b[0;34m\u001b[0m\u001b[0;34m\u001b[0m\u001b[0m\n\u001b[0;32m--> 429\u001b[0;31m     \u001b[0mparser\u001b[0m \u001b[0;34m=\u001b[0m \u001b[0mTextFileReader\u001b[0m\u001b[0;34m(\u001b[0m\u001b[0mfilepath_or_buffer\u001b[0m\u001b[0;34m,\u001b[0m \u001b[0;34m**\u001b[0m\u001b[0mkwds\u001b[0m\u001b[0;34m)\u001b[0m\u001b[0;34m\u001b[0m\u001b[0;34m\u001b[0m\u001b[0m\n\u001b[0m\u001b[1;32m    430\u001b[0m \u001b[0;34m\u001b[0m\u001b[0m\n\u001b[1;32m    431\u001b[0m     \u001b[0;32mif\u001b[0m \u001b[0mchunksize\u001b[0m \u001b[0;32mor\u001b[0m \u001b[0miterator\u001b[0m\u001b[0;34m:\u001b[0m\u001b[0;34m\u001b[0m\u001b[0;34m\u001b[0m\u001b[0m\n",
      "\u001b[0;32m/home/scientist/anaconda3/lib/python3.7/site-packages/pandas/io/parsers.py\u001b[0m in \u001b[0;36m__init__\u001b[0;34m(self, f, engine, **kwds)\u001b[0m\n\u001b[1;32m    893\u001b[0m             \u001b[0mself\u001b[0m\u001b[0;34m.\u001b[0m\u001b[0moptions\u001b[0m\u001b[0;34m[\u001b[0m\u001b[0;34m'has_index_names'\u001b[0m\u001b[0;34m]\u001b[0m \u001b[0;34m=\u001b[0m \u001b[0mkwds\u001b[0m\u001b[0;34m[\u001b[0m\u001b[0;34m'has_index_names'\u001b[0m\u001b[0;34m]\u001b[0m\u001b[0;34m\u001b[0m\u001b[0;34m\u001b[0m\u001b[0m\n\u001b[1;32m    894\u001b[0m \u001b[0;34m\u001b[0m\u001b[0m\n\u001b[0;32m--> 895\u001b[0;31m         \u001b[0mself\u001b[0m\u001b[0;34m.\u001b[0m\u001b[0m_make_engine\u001b[0m\u001b[0;34m(\u001b[0m\u001b[0mself\u001b[0m\u001b[0;34m.\u001b[0m\u001b[0mengine\u001b[0m\u001b[0;34m)\u001b[0m\u001b[0;34m\u001b[0m\u001b[0;34m\u001b[0m\u001b[0m\n\u001b[0m\u001b[1;32m    896\u001b[0m \u001b[0;34m\u001b[0m\u001b[0m\n\u001b[1;32m    897\u001b[0m     \u001b[0;32mdef\u001b[0m \u001b[0mclose\u001b[0m\u001b[0;34m(\u001b[0m\u001b[0mself\u001b[0m\u001b[0;34m)\u001b[0m\u001b[0;34m:\u001b[0m\u001b[0;34m\u001b[0m\u001b[0;34m\u001b[0m\u001b[0m\n",
      "\u001b[0;32m/home/scientist/anaconda3/lib/python3.7/site-packages/pandas/io/parsers.py\u001b[0m in \u001b[0;36m_make_engine\u001b[0;34m(self, engine)\u001b[0m\n\u001b[1;32m   1120\u001b[0m     \u001b[0;32mdef\u001b[0m \u001b[0m_make_engine\u001b[0m\u001b[0;34m(\u001b[0m\u001b[0mself\u001b[0m\u001b[0;34m,\u001b[0m \u001b[0mengine\u001b[0m\u001b[0;34m=\u001b[0m\u001b[0;34m'c'\u001b[0m\u001b[0;34m)\u001b[0m\u001b[0;34m:\u001b[0m\u001b[0;34m\u001b[0m\u001b[0;34m\u001b[0m\u001b[0m\n\u001b[1;32m   1121\u001b[0m         \u001b[0;32mif\u001b[0m \u001b[0mengine\u001b[0m \u001b[0;34m==\u001b[0m \u001b[0;34m'c'\u001b[0m\u001b[0;34m:\u001b[0m\u001b[0;34m\u001b[0m\u001b[0;34m\u001b[0m\u001b[0m\n\u001b[0;32m-> 1122\u001b[0;31m             \u001b[0mself\u001b[0m\u001b[0;34m.\u001b[0m\u001b[0m_engine\u001b[0m \u001b[0;34m=\u001b[0m \u001b[0mCParserWrapper\u001b[0m\u001b[0;34m(\u001b[0m\u001b[0mself\u001b[0m\u001b[0;34m.\u001b[0m\u001b[0mf\u001b[0m\u001b[0;34m,\u001b[0m \u001b[0;34m**\u001b[0m\u001b[0mself\u001b[0m\u001b[0;34m.\u001b[0m\u001b[0moptions\u001b[0m\u001b[0;34m)\u001b[0m\u001b[0;34m\u001b[0m\u001b[0;34m\u001b[0m\u001b[0m\n\u001b[0m\u001b[1;32m   1123\u001b[0m         \u001b[0;32melse\u001b[0m\u001b[0;34m:\u001b[0m\u001b[0;34m\u001b[0m\u001b[0;34m\u001b[0m\u001b[0m\n\u001b[1;32m   1124\u001b[0m             \u001b[0;32mif\u001b[0m \u001b[0mengine\u001b[0m \u001b[0;34m==\u001b[0m \u001b[0;34m'python'\u001b[0m\u001b[0;34m:\u001b[0m\u001b[0;34m\u001b[0m\u001b[0;34m\u001b[0m\u001b[0m\n",
      "\u001b[0;32m/home/scientist/anaconda3/lib/python3.7/site-packages/pandas/io/parsers.py\u001b[0m in \u001b[0;36m__init__\u001b[0;34m(self, src, **kwds)\u001b[0m\n\u001b[1;32m   1851\u001b[0m         \u001b[0mkwds\u001b[0m\u001b[0;34m[\u001b[0m\u001b[0;34m'usecols'\u001b[0m\u001b[0;34m]\u001b[0m \u001b[0;34m=\u001b[0m \u001b[0mself\u001b[0m\u001b[0;34m.\u001b[0m\u001b[0musecols\u001b[0m\u001b[0;34m\u001b[0m\u001b[0;34m\u001b[0m\u001b[0m\n\u001b[1;32m   1852\u001b[0m \u001b[0;34m\u001b[0m\u001b[0m\n\u001b[0;32m-> 1853\u001b[0;31m         \u001b[0mself\u001b[0m\u001b[0;34m.\u001b[0m\u001b[0m_reader\u001b[0m \u001b[0;34m=\u001b[0m \u001b[0mparsers\u001b[0m\u001b[0;34m.\u001b[0m\u001b[0mTextReader\u001b[0m\u001b[0;34m(\u001b[0m\u001b[0msrc\u001b[0m\u001b[0;34m,\u001b[0m \u001b[0;34m**\u001b[0m\u001b[0mkwds\u001b[0m\u001b[0;34m)\u001b[0m\u001b[0;34m\u001b[0m\u001b[0;34m\u001b[0m\u001b[0m\n\u001b[0m\u001b[1;32m   1854\u001b[0m         \u001b[0mself\u001b[0m\u001b[0;34m.\u001b[0m\u001b[0munnamed_cols\u001b[0m \u001b[0;34m=\u001b[0m \u001b[0mself\u001b[0m\u001b[0;34m.\u001b[0m\u001b[0m_reader\u001b[0m\u001b[0;34m.\u001b[0m\u001b[0munnamed_cols\u001b[0m\u001b[0;34m\u001b[0m\u001b[0;34m\u001b[0m\u001b[0m\n\u001b[1;32m   1855\u001b[0m \u001b[0;34m\u001b[0m\u001b[0m\n",
      "\u001b[0;32mpandas/_libs/parsers.pyx\u001b[0m in \u001b[0;36mpandas._libs.parsers.TextReader.__cinit__\u001b[0;34m()\u001b[0m\n",
      "\u001b[0;32mpandas/_libs/parsers.pyx\u001b[0m in \u001b[0;36mpandas._libs.parsers.TextReader._setup_parser_source\u001b[0;34m()\u001b[0m\n",
      "\u001b[0;31mFileNotFoundError\u001b[0m: [Errno 2] File b'D:\\\\Documents\\\\EureCat\\\\Eurecat 2019\\\\BTS\\\\Datasets\\\\county.txt' does not exist: b'D:\\\\Documents\\\\EureCat\\\\Eurecat 2019\\\\BTS\\\\Datasets\\\\county.txt'"
     ]
    }
   ],
   "source": [
    "# Load dataset\n",
    "county = pd.read_csv('D:\\\\Documents\\\\EureCat\\\\Eurecat 2019\\\\BTS\\\\Datasets\\\\county.txt', sep='\\t', encoding='utf-8')\n",
    "county.head()"
   ]
  },
  {
   "cell_type": "code",
   "execution_count": null,
   "metadata": {
    "ExecuteTime": {
     "end_time": "2019-11-12T23:53:43.075885Z",
     "start_time": "2019-11-12T23:53:43.070925Z"
    }
   },
   "outputs": [],
   "source": [
    "county.shape"
   ]
  },
  {
   "cell_type": "code",
   "execution_count": null,
   "metadata": {
    "ExecuteTime": {
     "end_time": "2019-11-12T23:53:44.754963Z",
     "start_time": "2019-11-12T23:53:44.731651Z"
    },
    "scrolled": true
   },
   "outputs": [],
   "source": [
    "county.corr()"
   ]
  },
  {
   "cell_type": "code",
   "execution_count": null,
   "metadata": {
    "ExecuteTime": {
     "end_time": "2019-11-12T23:54:08.371879Z",
     "start_time": "2019-11-12T23:53:54.473982Z"
    }
   },
   "outputs": [],
   "source": [
    "sns.pairplot(county);"
   ]
  },
  {
   "cell_type": "markdown",
   "metadata": {},
   "source": [
    "## <span style=color:darkgreen>Fitting a line by least squares regression</span>"
   ]
  },
  {
   "cell_type": "markdown",
   "metadata": {},
   "source": [
    "Scatterplots were introduced as a graphical technique to present two numerical variables simultaneously. Such plots permit the relationship between the variables to be examined with ease.   \n",
    "\n",
    "Straight lines should only be used when the data appear to have a linear relationship."
   ]
  },
  {
   "cell_type": "markdown",
   "metadata": {},
   "source": [
    "### <span style=color:darkred>An objective measure for finding the best line</span>"
   ]
  },
  {
   "cell_type": "markdown",
   "metadata": {},
   "source": [
    "<div class=\"alert alert-block alert-warning\"><u><b>What do we mean by “Best” ?</b></u>   \n",
    "$%$   .   \n",
    "\n",
    "Mathematically, we want a <b>line that has small residuals</b>. We could apply a <b>criteria</b> that could <b><u>minimize</u></b> the <b><u>Sum of the Residual (SR)</u></b> magnitudes :   \n",
    "$%$   \n",
    "\\begin{align*}SR\\:=\\:e_1 + e_2 + · · · + e_n\\end{align*}   \n",
    "$%$   \n",
    "However, a more common practice is to choose the <b>line that minimizes</b> the <b><u>Sum of the Squared Residuals (SSR)</u></b>:   \n",
    "$%$  \n",
    "\\begin{align*}SSR\\:=\\:e^{2}_1 + e^{2}_2 + · · · + e^{2}_n\\end{align*}\n",
    "</div>"
   ]
  },
  {
   "cell_type": "markdown",
   "metadata": {},
   "source": [
    "### <span style=color:darkred>Conditions for the least squares line</span>"
   ]
  },
  {
   "cell_type": "markdown",
   "metadata": {},
   "source": [
    "When fitting a least squares line, we generally require :    \n",
    "\n",
    "- <span style=color:blue><b><u>Linearity</u></b></span>. The data should show a <span style=color:blue>linear trend</span>. If there is a nonlinear trend, an advanced regression method should be applied.   \n",
    "$%$   \n",
    "- <span style=color:blue><b><u>Nearly normal residuals</u></b></span>. Generally the <span style=color:blue>residuals must be nearly normal</span>. When this condition is found to be unreasonable, it is usually because of <b>outliers</b> or concerns about <b>influential points</b>.   \n",
    "$%$   \n",
    "- <span style=color:blue><b><u>Constant variability</u></b></span>. The <b>variability of points</b> around the <span style=color:blue>least squares line</span> remains roughly <b>constant</b>.   \n",
    "$%$   \n",
    "- <span style=color:blue><b><u>Independent observations</u></b></span>. Be cautious about applying regression to time series data, which are sequential observations in time such as a stock price each day. Such data may have an underlying structure that should be considered in a model and analysis."
   ]
  },
  {
   "cell_type": "markdown",
   "metadata": {},
   "source": [
    "### <span style=color:darkred>Finding the least squares line</span>"
   ]
  },
  {
   "cell_type": "markdown",
   "metadata": {},
   "source": [
    "<div class=\"alert alert-block alert-warning\">\n",
    "<b>Parameters</b> are <b>estimated</b> using <b>observed data</b>. we can also find the <b>parameter estimates</b> by applying <u>two properties</u> of the <b>least squares line</b>:   \n",
    "\n",
    "- The <b><u>slope</u> of the least squares line</b> can be estimated by :   \n",
    "$%$   \n",
    "\\begin{align*}b_1 = \\frac{s_y}{s_x}R\\end{align*}   \n",
    "$%$   \n",
    "where <b>$\\:R\\:$</b> is the <span style=color:blue>correlation</span> between the <b>two variables</b>, and $\\:s_x\\:$ and $\\:s_y\\:$ are the <span style=color:blue>sample standard deviations</span> of the <b>explanatory variable</b> and <b>response</b>, respectively.   \n",
    "$%$   \n",
    "\n",
    "- If <span style=color:blue>$\\:\\hat{x}\\:$</span> is the <span style=color:blue><b>mean of the horizontal variable</b></span> (from the data) and <span style=color:blue>$\\:\\bar{y}\\:$</span> is the <span style=color:blue><b>mean of the vertical variable</b></span> then the point <span style=color:blue>($\\bar{x},\\:\\bar{y}$)</span> is on the <span style=color:blue>least squares line</span>.   \n",
    "$%$   \n",
    "We use <span style=color:blue>$\\:b_0\\:$</span> and <span style=color:blue>$\\:b_1\\:$</span> to represent the <span style=color:blue><b>point estimates</b> of the parameters</span> <span style=color:blue>$\\:\\beta_0\\:$</span> and <span style=color:blue>$\\:\\beta_1\\:$</span>."
   ]
  },
  {
   "cell_type": "code",
   "execution_count": null,
   "metadata": {
    "ExecuteTime": {
     "end_time": "2019-11-12T23:54:50.347870Z",
     "start_time": "2019-11-12T23:54:50.155950Z"
    }
   },
   "outputs": [],
   "source": [
    "# Create data\n",
    "x = county.multiunit\n",
    "y = county.homeownership\n",
    "colors = 'Blue'\n",
    "\n",
    "area = np.pi*5\n",
    "plt.axis([-1, 105, 0, 95])\n",
    "\n",
    "# Plot\n",
    "plt.scatter(x, y, s=area, alpha=0.3, c=colors, edgecolor='black')\n",
    "plt.title('Homeownership vs Multi-Unit')\n",
    "plt.ylabel('% of Homeownership')\n",
    "plt.xlabel('% of Units in Multi-Unit Structure')\n",
    "plt.show()"
   ]
  },
  {
   "cell_type": "markdown",
   "metadata": {},
   "source": [
    "We could write the equation of the y = ownership and x = multiunit <span style=color:blue>least squares regression line</span> as :   \n",
    "$%$   \n",
    "\\begin{align*}\\hat{homeownership}\\:=\\:\\beta_0\\:+\\:\\beta_1\\:x\\:multiunit\\:+\\:\\epsilon\\end{align*}    \n",
    "$%$   \n",
    "Here the equation is set up to <span style=color:blue><b>predict</b></span> $\\:homeownership\\:$ based on $\\:multiunit\\:$ variable. These two values, $\\:\\beta_0\\:$ and $\\:\\beta_1\\:$, are the <span style=color:blue>parameters</span> of the <b>regression line</b>.\n"
   ]
  },
  {
   "cell_type": "markdown",
   "metadata": {},
   "source": [
    "<span style=color:darkblue><b><u>EXAMPLE 8.1</u></b></span>   \n",
    "$%$   \n",
    "Using the summary statistics, we can compute the <span style=color:blue>slope for the regression line</span> of <b>multiunit structure</b> against <b>homeownership</b>.   \n",
    "\n",
    "\\begin{align*}b_1 = \\frac{s_y}{s_x}R\\:=\\:\\frac{7.83}{9.29}(-0.657)\\:=\\:-0.56\\end{align*}"
   ]
  },
  {
   "cell_type": "code",
   "execution_count": null,
   "metadata": {
    "ExecuteTime": {
     "end_time": "2019-11-12T23:55:23.783037Z",
     "start_time": "2019-11-12T23:55:23.772126Z"
    }
   },
   "outputs": [],
   "source": [
    "county_P = county[['homeownership', 'multiunit']]\n",
    "county_P.std().round(2)"
   ]
  },
  {
   "cell_type": "code",
   "execution_count": null,
   "metadata": {
    "ExecuteTime": {
     "end_time": "2019-11-12T23:55:30.835540Z",
     "start_time": "2019-11-12T23:55:30.821157Z"
    }
   },
   "outputs": [],
   "source": [
    "county_P.corr()"
   ]
  },
  {
   "cell_type": "markdown",
   "metadata": {},
   "source": [
    "<div class=\"alert alert-block alert-warning\"><u>Identifying the <b>least squares line</b> from summary statistics</u>   \n",
    "$%$   \n",
    "\n",
    "To <b><i>identify the least squares line from summary statistics</i></b>:   \n",
    "$%$   \n",
    "• Estimate the <b>slope parameter, $\\:b_1\\:$</b>.   \n",
    "\n",
    "• Noting that the point ($\\:\\bar{x}\\:,\\:\\bar{y}$) is on the <b>least squares line</b>, use $\\:x_0\\:=\\:\\bar{x}\\:$ and $\\:y_0\\:=\\:\\bar{y}\\:$ along with the <b>slope</b> $\\:b_1\\:$ in the <b><u>point-slope</u></b> equation:   \n",
    "$%$   \n",
    "\\begin{align*}y − \\bar{y} = b_1(x − \\bar{x})\\end{align*}   \n",
    "$%$   \n",
    "• Simplify the equation."
   ]
  },
  {
   "cell_type": "code",
   "execution_count": null,
   "metadata": {
    "ExecuteTime": {
     "end_time": "2019-11-12T23:55:37.434597Z",
     "start_time": "2019-11-12T23:55:37.425668Z"
    }
   },
   "outputs": [],
   "source": [
    "# select the point (x,y)\n",
    "\n",
    "county_P.mean().round(2)"
   ]
  },
  {
   "cell_type": "markdown",
   "metadata": {},
   "source": [
    "<span style=color:darkblue><b><u>EXAMPLE 8.2</u></b></span>   \n",
    "\n",
    "Using the point ($\\:\\bar{x}\\:,\\:\\bar{y}$) = (12.26, 73.37) from the <b>sample means</b> and the <b>slope estimate</b> $\\:b_1\\:$ = −0.56 from <span style=color:darkblue><b><u>EXAMPLE 8.1</u></b></span>, find the <span style=color:darkblue>least-squares line</span> for <u>predicting</u> $\\:homeownership\\:$ based on $\\:multiunit\\:$.   \n",
    "\n",
    "\\begin{align*}y − \\bar{y} = b_1(x − \\bar{x})\\end{align*}   \n",
    "$%$   \n",
    "\\begin{align*}y − 73.37 = -0.56(x − 12.26)\\end{align*}   \n",
    "$%$   \n",
    "Expanding the right side and then <b>adding 73.37</b> to each side, the equation simplifies to :   \n",
    "$%$   \n",
    "\\begin{align*}y = 80.24 -0.56x\\end{align*}   \n",
    "$%$   \n",
    "Putting the equation into context :   \n",
    "\n",
    "\\begin{align*}\\hat{homeonwership} = 80.24 - 0.56\\:x\\:multiunit\\end{align*}   \n"
   ]
  },
  {
   "cell_type": "code",
   "execution_count": null,
   "metadata": {
    "ExecuteTime": {
     "end_time": "2019-11-12T23:56:16.512447Z",
     "start_time": "2019-11-12T23:56:16.505009Z"
    }
   },
   "outputs": [],
   "source": [
    "x = county_P.multiunit\n",
    "y = county_P.homeownership\n",
    "\n",
    "slope, intercept, r_value, p_value, std_err = stats.linregress(x, y)\n",
    "print(\"intercept: %f;  slope: %f;  std. error: %f  p-value: %f;  R value: %f; R-square: %f.\" % (intercept.round(2), slope.round(2), std_err, p_value, r_value, r_value**2))"
   ]
  },
  {
   "cell_type": "code",
   "execution_count": null,
   "metadata": {
    "ExecuteTime": {
     "end_time": "2019-11-12T23:56:20.704349Z",
     "start_time": "2019-11-12T23:56:20.488095Z"
    }
   },
   "outputs": [],
   "source": [
    "# linear regression line fitting\n",
    "\n",
    "plt.plot(x, y, 'o', label='original data',color='darkblue')\n",
    "plt.plot(x, intercept + slope * x, 'r', label='fitted line') # equation 𝑓(𝑥) = 𝑏₀ + 𝑏₁𝑥\n",
    "plt.legend()\n",
    "plt.title('Homeownership vs Multi-Unit')\n",
    "plt.ylabel('% of Homeownership')\n",
    "plt.xlabel('% of Units in Multi-Unit Structure')\n",
    "plt.show()"
   ]
  },
  {
   "cell_type": "markdown",
   "metadata": {},
   "source": [
    "<div class=\"alert alert-block alert-warning\"><u>Interpreting parameters estimated by least squares</u>   \n",
    "$%$   \n",
    "\n",
    "The <b>slope</b> describes the <b>estimated difference</b> in the $\\:y\\:$ variable if the <b>explanatory variable</b> $\\:x\\:$ for a case happened to be one unit larger.   \n",
    "$%$   \n",
    "The <b>intercept</b> describes the <b>average outcome</b> of $\\:y\\:$ if $\\:x\\:$ = 0 and the linear model is valid all the way to $\\:x\\:$ = 0, which in many applications is not the case.\n",
    "</div>"
   ]
  },
  {
   "cell_type": "markdown",
   "metadata": {},
   "source": [
    "## <span style=color:green>Create a model  and fit it</span>"
   ]
  },
  {
   "cell_type": "markdown",
   "metadata": {},
   "source": [
    "### <span style=color:darkred>Splitting the dataset into Train and Test sets</span>"
   ]
  },
  {
   "cell_type": "code",
   "execution_count": null,
   "metadata": {
    "ExecuteTime": {
     "end_time": "2019-11-12T23:59:42.557602Z",
     "start_time": "2019-11-12T23:59:42.553140Z"
    }
   },
   "outputs": [],
   "source": [
    "X = county['multiunit'].values.reshape(-1,1)\n",
    "y = county['homeownership'].values.reshape(-1,1)"
   ]
  },
  {
   "cell_type": "markdown",
   "metadata": {},
   "source": [
    " we split 80% of the data to the training set while 20% of the data to test set using below code."
   ]
  },
  {
   "cell_type": "code",
   "execution_count": null,
   "metadata": {
    "ExecuteTime": {
     "end_time": "2019-11-12T23:59:46.734076Z",
     "start_time": "2019-11-12T23:59:46.728125Z"
    }
   },
   "outputs": [],
   "source": [
    "X_train, X_test, y_train, y_test = train_test_split(X, y, test_size=0.2, random_state=0)"
   ]
  },
  {
   "cell_type": "markdown",
   "metadata": {},
   "source": [
    "After splitting the data into training and testing sets, finally, the time is to train our algorithm. For that, we need to import LinearRegression class, instantiate it, and call the fit() method along with our training data."
   ]
  },
  {
   "cell_type": "code",
   "execution_count": null,
   "metadata": {
    "ExecuteTime": {
     "end_time": "2019-11-12T23:59:49.235439Z",
     "start_time": "2019-11-12T23:59:49.228495Z"
    }
   },
   "outputs": [],
   "source": [
    "X_train.shape, X_test.shape, y_train.shape, y_test.shape"
   ]
  },
  {
   "cell_type": "markdown",
   "metadata": {},
   "source": [
    "After splitting the data into training and testing sets, finally, the time is to train our algorithm. For that, we need to import LinearRegression class, instantiate it, and call the fit() method along with our training data."
   ]
  },
  {
   "cell_type": "markdown",
   "metadata": {},
   "source": [
    "The <span style=color:blue>regression model</span> based on <span style=color:blue><b>Ordinary Least Squares - OLS</b></span> is an instance of the class <i>statsmodels.regression.linear_model.OLS</i>.   \n",
    "\n",
    "This is how you can create our model. Once your model is created, you can apply <span style=color:blue><b>.fit()</b></span> on it: :"
   ]
  },
  {
   "cell_type": "code",
   "execution_count": null,
   "metadata": {
    "ExecuteTime": {
     "end_time": "2019-11-13T00:02:39.106754Z",
     "start_time": "2019-11-13T00:02:39.087870Z"
    }
   },
   "outputs": [],
   "source": [
    "# Fit regression model \n",
    "\n",
    "data = {\"x1\" : X_train, \"y\" : y_train}\n",
    "\n",
    "county_model = smf.ols('y ~ x1', data=data).fit()\n",
    "\n",
    "print(county_model.summary())"
   ]
  },
  {
   "cell_type": "markdown",
   "metadata": {},
   "source": [
    "<div class=\"alert alert-block alert-danger\">   \n",
    "$%$  \n",
    "<b><u>You should be careful here!</u></b>$\\hspace{3mm}$ Please, notice that the <u>first argument</u> is the <b>output</b>, followed with the <b>input</b>.</div>"
   ]
  },
  {
   "cell_type": "markdown",
   "metadata": {},
   "source": [
    "By calling <span style=color:blue><b>.fit()</b></span>, you obtain the variable <span style=color:blue><b>county_model</b></span>. This object holds a lot of information about the regression model."
   ]
  },
  {
   "cell_type": "markdown",
   "metadata": {},
   "source": [
    "<b><u>We’ll describe the meaning of the columns</u></b> :   \n",
    "$%$   \n",
    "- The <b>first column</b> provides the <span style=color:blue>point estimate for $\\:b_0\\:$ and $\\:b_1\\:$</span>, as we calculated in an earlier example : <b>-0.5668</b>.   \n",
    "- The <b>second column</b> is a <span style=color:blue>standard error</span> for this point estimate: <b>0.011</b>.   \n",
    "- The <b>third column</b> is a <span style=color:blue>t-test statistic</span> for the <span style=color:blue>null hypothesis that $\\:b_1\\:$ = 0 :</span>$\\hspace{3mm}$ <b>T = −50.905</b>.   \n",
    "- The <b>last column</b> is the <span style=color:blue>p-value</span> for the <span style=color:blue>t-test statistic for the null hypothesis $\\:b_1\\:$ = 0</span> and a <span style=color:blue><u>two-sided alternative hypothesis</u></span>: <b>0.000</b>.\n"
   ]
  },
  {
   "cell_type": "markdown",
   "metadata": {},
   "source": [
    "We can extract any of the values from the table above - <span style=color:blue><b>Ordinary Least Squares - OLS</b></span>. For instance :"
   ]
  },
  {
   "cell_type": "code",
   "execution_count": null,
   "metadata": {
    "ExecuteTime": {
     "end_time": "2019-11-13T00:02:43.965459Z",
     "start_time": "2019-11-13T00:02:43.960499Z"
    }
   },
   "outputs": [],
   "source": [
    "print('coefficient of determination:', county_model.rsquared.round(3))"
   ]
  },
  {
   "cell_type": "code",
   "execution_count": null,
   "metadata": {
    "ExecuteTime": {
     "end_time": "2019-11-13T00:02:44.881208Z",
     "start_time": "2019-11-13T00:02:44.876248Z"
    }
   },
   "outputs": [],
   "source": [
    "print('adjusted coefficient of determination:', county_model.rsquared_adj.round(3))"
   ]
  },
  {
   "cell_type": "code",
   "execution_count": null,
   "metadata": {
    "ExecuteTime": {
     "end_time": "2019-11-13T00:02:45.744921Z",
     "start_time": "2019-11-13T00:02:45.738969Z"
    }
   },
   "outputs": [],
   "source": [
    "print('regression coefficients:', county_model.params.round(3))"
   ]
  },
  {
   "cell_type": "markdown",
   "metadata": {},
   "source": [
    "To find more information about the results of linear regression, please visit the [official documentation page](https://www.statsmodels.org/stable/generated/statsmodels.regression.linear_model.OLSResults.html)."
   ]
  },
  {
   "cell_type": "markdown",
   "metadata": {},
   "source": [
    "## <span style=color:green>Using $\\:R^2\\:$ to describe the strength of a fit</span>"
   ]
  },
  {
   "cell_type": "code",
   "execution_count": null,
   "metadata": {
    "ExecuteTime": {
     "end_time": "2019-11-13T00:02:58.011341Z",
     "start_time": "2019-11-13T00:02:58.002376Z"
    }
   },
   "outputs": [],
   "source": [
    "# extracting std deviation to calculate the variance for R^2\n",
    "county_P.std().round(3)"
   ]
  },
  {
   "cell_type": "code",
   "execution_count": null,
   "metadata": {
    "ExecuteTime": {
     "end_time": "2019-11-13T00:03:19.612722Z",
     "start_time": "2019-11-13T00:03:19.604785Z"
    }
   },
   "outputs": [],
   "source": [
    "county_P.var().round(3)"
   ]
  },
  {
   "cell_type": "markdown",
   "metadata": {},
   "source": [
    "We <span style=color:blue>evaluated the strength of the linear relationship between two variables</span> earlier using the <span style=color:blue><u><b>correlation</b>, $\\:R\\:$</u></span>.   \n",
    "$%$   \n",
    "However, it is more common to explain the <span style=color:blue><u><b>strength of a linear fit</b></u></span> using <span style=color:blue>$\\:R^2\\:$, called <b>R-squared</b></span>. If provided with a linear model, we might like to describe how closely the data cluster around the linear fit.   \n",
    "$%$   \n",
    "The <span style=color:blue>$\\:R^2\\:$</span> of a <b>linear model</b> describes the <span style=color:blue>amount of variation in the response</span> that is <b>explained</b> by the <span style=color:blue>least squares line</span>.    \n",
    "$%$   \n",
    "For example, the <span style=color:blue><b>variance</b></span> of the <b>response variable</b>, $homeownership$, is $\\:s^2_{home}\\:$ = 62.25. However, if we apply our <b>least squares line</b>, then this model reduces our uncertainty in predicting $homeownership$ using a $multiunit$. The variability in the residuals describes how much variation remains after using the model: $\\:s^2_{multi}\\:$ = 86.62. In short, there was a reduction of   \n",
    "$%$   \n",
    "\\begin{align*}\\frac{s^2_{home}-s^2_{multi}}{s^2_{home}}\\:=\\:\\frac{62.25-86.62}{62.25}\\:=\\:\\frac{24.37}{62.25}\\:=\\:0.39\\end{align*}   \n",
    "$%$   \n",
    "or about <b>39%</b> in the <b>data’s variation</b> by using information about $\\:multiunit\\:$ for <b><u>predicting</u></b> $\\:homeownership\\:$ using a <b>linear model</b>. This corresponds exactly to the <span style=color:blue>R-squared value</span>:   \n",
    "$%$   \n",
    "\\begin{align*}R\\:=\\:−0.657\\hspace{5cm}R^2\\:=\\:0.39\\end{align*}"
   ]
  },
  {
   "cell_type": "code",
   "execution_count": null,
   "metadata": {
    "ExecuteTime": {
     "end_time": "2019-11-13T00:10:11.434710Z",
     "start_time": "2019-11-13T00:10:11.430246Z"
    }
   },
   "outputs": [],
   "source": [
    "print(\"R-squared: %f\" % r_value**2)"
   ]
  },
  {
   "cell_type": "markdown",
   "metadata": {},
   "source": [
    "# <span style=color:darkgreen>Predict response</span>"
   ]
  },
  {
   "cell_type": "code",
   "execution_count": null,
   "metadata": {
    "ExecuteTime": {
     "end_time": "2019-11-13T00:10:17.864229Z",
     "start_time": "2019-11-13T00:10:17.858773Z"
    }
   },
   "outputs": [],
   "source": [
    "print(\"Making predictions for the following 5 houses:\")\n",
    "print(X_train)"
   ]
  },
  {
   "cell_type": "code",
   "execution_count": null,
   "metadata": {
    "ExecuteTime": {
     "end_time": "2019-11-13T00:10:19.457505Z",
     "start_time": "2019-11-13T00:10:19.447586Z"
    }
   },
   "outputs": [],
   "source": [
    "predicted_y = county_model.predict(exog=dict(x1=X_test))\n",
    "print(\"The predictions are:\")\n",
    "print(predicted_y.head().round(2))"
   ]
  },
  {
   "cell_type": "markdown",
   "metadata": {},
   "source": [
    "# <span style=color:darkgreen>Model Validation</span>"
   ]
  },
  {
   "cell_type": "markdown",
   "metadata": {},
   "source": [
    "You'll want to evaluate almost every model you ever build. In most (though not all) applications, the relevant mesure of model quality is <span style=color:blue><b>predictive accuracy</b></span>. In other words, <span style=color:blue><i>will the model's predictions be close to what acctually happens</i></span>.\n",
    "\n",
    "<span style=color:blue><b><u>Model Validation</u></b></span> measure the <span style=color:blue><b>quality of your model</b></span>. Measuring <span style=color:blue>model quality</span> is the <b>key</b> to iteratively improving your models.   \n",
    "\n",
    "we'll use <span style=color:blue><b>Mean Absolute Error - MAE</b></span>. Let's break down this metric starting with the last word <b><i>error</i></b>.\n",
    "\n",
    "The <span style=color:blue>prediction error</span>$\\:$ for each case or observation is :\n",
    "\n",
    "- <span style=color:blue><b>Mean Absolute Error - MAE</b></span>$\\hspace{2mm}$=$\\hspace{2mm}y_{test} - predicted_{y}$\n",
    "\n",
    "So, if a $\\:homeownership\\:$ observation equals <b>73.30</b> and you predicted it would be <b>76.02</b> the <span style=color:blue><b>Mean Absolute Error - MAE</b></span> is <b>2.72</b>.\n",
    "\n",
    "With the **MAE** metric, we take the absolute value of each *error*. This converts each *error* to a positive number. We then take the average of those abosulte *errors*. This is our measure of model quality. In plain English, it can be said as :\n",
    "\n",
    "On average, our <b>predictions are off</b> by about the calculated <span style=color:blue><b>Mean Absolute Error - MAE</b></span>.</span>"
   ]
  },
  {
   "cell_type": "code",
   "execution_count": null,
   "metadata": {
    "ExecuteTime": {
     "end_time": "2019-11-12T22:25:08.738738Z",
     "start_time": "2019-11-12T22:25:08.734752Z"
    }
   },
   "outputs": [],
   "source": [
    "from sklearn.metrics import mean_absolute_error"
   ]
  },
  {
   "cell_type": "code",
   "execution_count": null,
   "metadata": {
    "ExecuteTime": {
     "end_time": "2019-11-12T22:59:54.765155Z",
     "start_time": "2019-11-12T22:59:54.758174Z"
    }
   },
   "outputs": [],
   "source": [
    "print(mean_absolute_error(y_test, predicted_y).round(2))"
   ]
  },
  {
   "cell_type": "code",
   "execution_count": null,
   "metadata": {
    "ExecuteTime": {
     "end_time": "2019-11-12T23:42:54.727838Z",
     "start_time": "2019-11-12T23:42:54.721858Z"
    }
   },
   "outputs": [],
   "source": [
    "print(predicted_y.mean().round(2), y_test.mean().round())"
   ]
  },
  {
   "cell_type": "markdown",
   "metadata": {},
   "source": [
    "## <span style=color:green>Residuals</span>"
   ]
  },
  {
   "cell_type": "markdown",
   "metadata": {},
   "source": [
    "<div class=\"alert alert-block alert-warning\"><b><u>Residuals</u></b>   \n",
    "$%$   \n",
    "\n",
    "<span style=color:blue><b><u>Residuals</u></b></span> are the <b>leftover variation</b> in the data <b>after</b> accounting for the <b>model fit</b>:   \n",
    "$%$   \n",
    "\\begin{align*}Data\\:=\\:Fit\\:+\\:Residual\\end{align*}   \n",
    "$%$   \n",
    "Each <b>observation</b> will have a <b>residual</b>.   \n",
    "\n",
    "- If an <b>observation</b> is above the regression line, then its <b>residual</b>, the <i>vertical distance</i> from the <b>observation</b> to the <b>line</b>, is <u>positive</u>.   \n",
    "$%$   \n",
    "- <b>Observations</b> below the <b>line</b> have <b>negative residuals</b>.   \n",
    "$%$   \n",
    "One goal in picking the right linear model is for these <b>residuals</b> to be <i><b>as small as</b> possible</i>.   \n",
    "$%$   \n",
    "<b><u>Difference between Observed and Expected</u></b>   \n",
    "$%$      \n",
    "The <b>residual</b> of the $\\:i^{th}\\:$ <b>observation</b> ($\\:x_i\\:,\\:y_i\\:$) is the <b>difference</b> of the <b><u>observed response</u></b> ($\\:y_i\\:$) and the <b><u>response</u></b> we would <b>predict</b> based on the <b><u>model fit</u></b> ($\\:\\hat{y}_{i}\\:$) :   \n",
    "\n",
    "\\begin{align*}e_i\\:=\\:y_i\\:−\\:\\hat{y}_{i}\\end{align*}   \n",
    "$%$   \n",
    "We typically <b>identify $\\:\\hat{y}_{i}\\:$ by plugging $\\:x_i\\:$ <u>into the model</u></b>.\n",
    "</div>"
   ]
  },
  {
   "cell_type": "markdown",
   "metadata": {},
   "source": [
    "<b>Residuals</b> are helpful in <b>evaluating</b> how well a <span style=color.blue>linear model fits</span> a dataset. We often display them in a <span style=color:blue><b>residual plot</b></span>.   \n",
    "\n",
    "One purpose of residual plots is to identify characteristics or patterns still apparent in data after fitting a model."
   ]
  },
  {
   "cell_type": "code",
   "execution_count": null,
   "metadata": {
    "ExecuteTime": {
     "end_time": "2019-11-11T22:03:03.679320Z",
     "start_time": "2019-11-11T22:03:03.298203Z"
    }
   },
   "outputs": [],
   "source": [
    "fig, ax = plt.subplots(figsize=(12, 8))\n",
    "fig = sm.graphics.plot_fit(county_model, \"homeownership\", ax=ax)"
   ]
  },
  {
   "attachments": {
    "BTS_Thanks.jpg": {
     "image/jpeg": "[encoded data removed]"
    }
   },
   "cell_type": "markdown",
   "metadata": {},
   "source": [
    "![BTS_Thanks.jpg](attachment:BTS_Thanks.jpg)"
   ]
  }
 ],
 "metadata": {
  "kernelspec": {
   "display_name": "Python 3",
   "language": "python",
   "name": "python3"
  },
  "language_info": {
   "codemirror_mode": {
    "name": "ipython",
    "version": 3
   },
   "file_extension": ".py",
   "mimetype": "text/x-python",
   "name": "python",
   "nbconvert_exporter": "python",
   "pygments_lexer": "ipython3",
   "version": "3.7.3"
  },
  "toc": {
   "base_numbering": 1,
   "nav_menu": {},
   "number_sections": true,
   "sideBar": true,
   "skip_h1_title": false,
   "title_cell": "Table of Contents",
   "title_sidebar": "Contents",
   "toc_cell": false,
   "toc_position": {},
   "toc_section_display": true,
   "toc_window_display": false
  },
  "varInspector": {
   "cols": {
    "lenName": 16,
    "lenType": 16,
    "lenVar": 40
   },
   "kernels_config": {
    "python": {
     "delete_cmd_postfix": "",
     "delete_cmd_prefix": "del ",
     "library": "var_list.py",
     "varRefreshCmd": "print(var_dic_list())"
    },
    "r": {
     "delete_cmd_postfix": ") ",
     "delete_cmd_prefix": "rm(",
     "library": "var_list.r",
     "varRefreshCmd": "cat(var_dic_list()) "
    }
   },
   "types_to_exclude": [
    "module",
    "function",
    "builtin_function_or_method",
    "instance",
    "_Feature"
   ],
   "window_display": false
  }
 },
 "nbformat": 4,
 "nbformat_minor": 2
}
