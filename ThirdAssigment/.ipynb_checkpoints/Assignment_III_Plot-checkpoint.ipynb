{
 "cells": [
  {
   "cell_type": "markdown",
   "metadata": {},
   "source": [
    "\n",
    "## Plot methods"
   ]
  },
  {
   "cell_type": "code",
   "execution_count": null,
   "metadata": {},
   "outputs": [],
   "source": [
    "import matplotlib.pyplot as plt\n",
    "import seaborn as sns"
   ]
  },
  {
   "cell_type": "markdown",
   "metadata": {},
   "source": [
    "### General plot"
   ]
  },
  {
   "cell_type": "code",
   "execution_count": null,
   "metadata": {},
   "outputs": [],
   "source": [
    "def count_categorical(df, x_var, ax_title):\n",
    "    sns.set(style=\"whitegrid\")\n",
    "        \n",
    "    # Initialize the matplotlib figure\n",
    "    f, ax = plt.subplots(figsize=(8, 8))\n",
    "    \n",
    "    sns.set_color_codes(\"pastel\")\n",
    "    ax = sns.countplot(x=x_var, data=df)\n",
    "    \n",
    "    ax.set_title(ax_title, fontsize=16)\n",
    "    \n",
    "    plt.show()"
   ]
  },
  {
   "cell_type": "code",
   "execution_count": null,
   "metadata": {},
   "outputs": [],
   "source": [
    "def categorical_plot(df, p_kind, p_x, p_y, p_hue, p_ci, p_palette, p_alpha, p_height):\n",
    "    sns.set(style=\"whitegrid\")\n",
    "        \n",
    "    # Initialize the matplotlib figure\n",
    "    #f, ax = plt.subplots(figsize=(16, 8))\n",
    "    \n",
    "    sns.set_color_codes(\"pastel\")\n",
    "    \n",
    "    g = sns.catplot(\n",
    "        data=df, kind=p_kind,\n",
    "        x=p_x, y=p_y, hue =p_hue,\n",
    "        ci=p_ci, palette=p_palette, \n",
    "        alpha=p_alpha, height=p_height, \n",
    "        aspect=1.5)\n",
    "    g.despine(left=True)\n",
    "    g.set_titles\n",
    "    #g.set_axis_labels(\"\", \"negative\")\n",
    "    #plt.show();    "
   ]
  },
  {
   "cell_type": "code",
   "execution_count": null,
   "metadata": {},
   "outputs": [],
   "source": [
    "def pivot_heatmap(df, p_ax_title):\n",
    "    sns.set(style=\"whitegrid\")\n",
    "    \n",
    "    # Initialize the matplotlib figure\n",
    "    f, ax = plt.subplots(figsize=(8, 8))\n",
    "\n",
    "    sns.set_color_codes(\"pastel\")\n",
    "    ax = sns.heatmap(df)\n",
    "    \n",
    "    ax.set_title(p_ax_title, fontsize=16)\n",
    "    \n",
    "    plt.show();"
   ]
  },
  {
   "cell_type": "code",
   "execution_count": null,
   "metadata": {},
   "outputs": [],
   "source": [
    "def pivot_lineplot(df, p_ax_title):\n",
    "    sns.set(style=\"whitegrid\")\n",
    "    \n",
    "    # Initialize the matplotlib figure\n",
    "    f, ax = plt.subplots(figsize=(16, 8))\n",
    "\n",
    "    sns.set_color_codes(\"pastel\")\n",
    "    #sns.color_palette(\"Set2\")\n",
    "    \n",
    "    ax = sns.lineplot(data=df);\n",
    "    \n",
    "    ax.set_title(p_ax_title, fontsize=16)\n",
    "    \n",
    "    plt.show();"
   ]
  },
  {
   "cell_type": "code",
   "execution_count": null,
   "metadata": {},
   "outputs": [],
   "source": [
    "def custom_barplot(df, p_x, p_y, p_ax_title):\n",
    "    sns.set(style=\"whitegrid\")\n",
    "    \n",
    "    # Initialize the matplotlib figure\n",
    "    f, ax = plt.subplots(figsize=(16, 8))\n",
    "\n",
    "    sns.set_color_codes(\"pastel\")\n",
    "    #sns.color_palette(\"Set2\")\n",
    "    \n",
    "    ax = sns.barplot(x=p_x, y=p_y, data=df)\n",
    "    \n",
    "    ax.set_title(p_ax_title, fontsize=16)\n",
    "    \n",
    "    plt.show(); "
   ]
  },
  {
   "cell_type": "code",
   "execution_count": null,
   "metadata": {},
   "outputs": [],
   "source": [
    "def custom_displot(df, p_x, p_bins, p_discrete, p_height, p_ax_title):\n",
    "    \n",
    "    sns.set_color_codes(\"pastel\")\n",
    "    \n",
    "    if p_discrete:\n",
    "        g = sns.displot(df, x=p_x, bins=p_bins, height=p_height, aspect=1.5)\n",
    "    else:\n",
    "        g = sns.displot(df, x=p_x, height=p_height, aspect=1.5, discrete=True)\n",
    "    \n",
    "    g.fig.suptitle(p_ax_title, fontsize=16, fontdict={\"weight\": \"bold\"})\n",
    "    g.despine(left=True)   "
   ]
  }
 ],
 "metadata": {
  "kernelspec": {
   "display_name": "Python 3",
   "language": "python",
   "name": "python3"
  },
  "language_info": {
   "codemirror_mode": {
    "name": "ipython",
    "version": 3
   },
   "file_extension": ".py",
   "mimetype": "text/x-python",
   "name": "python",
   "nbconvert_exporter": "python",
   "pygments_lexer": "ipython3",
   "version": "3.7.3"
  }
 },
 "nbformat": 4,
 "nbformat_minor": 2
}
