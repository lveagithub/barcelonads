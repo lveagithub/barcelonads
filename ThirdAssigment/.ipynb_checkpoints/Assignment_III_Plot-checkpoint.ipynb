{
 "cells": [
  {
   "cell_type": "markdown",
   "metadata": {},
   "source": [
    "\n",
    "## Plot methods"
   ]
  },
  {
   "cell_type": "code",
   "execution_count": null,
   "metadata": {},
   "outputs": [],
   "source": [
    "import matplotlib.pyplot as plt\n",
    "import seaborn as sns\n",
    "from statsmodels.graphics.gofplots import qqplot"
   ]
  },
  {
   "cell_type": "markdown",
   "metadata": {},
   "source": [
    "### General plot"
   ]
  },
  {
   "cell_type": "code",
   "execution_count": null,
   "metadata": {},
   "outputs": [],
   "source": [
    "def count_categorical(df, x_var, ax_title):\n",
    "    sns.set(style=\"whitegrid\")\n",
    "        \n",
    "    # Initialize the matplotlib figure\n",
    "    f, ax = plt.subplots(figsize=(8, 8))\n",
    "    \n",
    "    sns.set_color_codes(\"pastel\")\n",
    "    ax = sns.countplot(x=x_var, data=df)\n",
    "    \n",
    "    ax.set_title(ax_title, fontsize=16)\n",
    "    \n",
    "    plt.show()"
   ]
  },
  {
   "cell_type": "code",
   "execution_count": null,
   "metadata": {},
   "outputs": [],
   "source": [
    "def categorical_plot(df, p_kind, p_x, p_y, p_hue, p_ci, p_palette, p_alpha, p_height):\n",
    "    sns.set(style=\"whitegrid\")\n",
    "        \n",
    "    # Initialize the matplotlib figure\n",
    "    #f, ax = plt.subplots(figsize=(16, 8))\n",
    "    \n",
    "    sns.set_color_codes(\"pastel\")\n",
    "    \n",
    "    g = sns.catplot(\n",
    "        data=df, kind=p_kind,\n",
    "        x=p_x, y=p_y, hue =p_hue,\n",
    "        ci=p_ci, palette=p_palette, \n",
    "        alpha=p_alpha, height=p_height, \n",
    "        aspect=1.5)\n",
    "    g.despine(left=True)\n",
    "    g.set_xticklabels(rotation=30)\n",
    "    g.set_titles\n",
    "    #g.set_axis_labels(\"\", \"negative\")\n",
    "    #plt.show();    "
   ]
  },
  {
   "cell_type": "code",
   "execution_count": null,
   "metadata": {},
   "outputs": [],
   "source": [
    "def pivot_heatmap(df, p_ax_title):\n",
    "    sns.set(style=\"whitegrid\")\n",
    "    \n",
    "    # Initialize the matplotlib figure\n",
    "    f, ax = plt.subplots(figsize=(8, 8))\n",
    "\n",
    "    sns.set_color_codes(\"pastel\")\n",
    "    ax = sns.heatmap(df)\n",
    "    \n",
    "    ax.set_title(p_ax_title, fontsize=16)\n",
    "    \n",
    "    plt.show();"
   ]
  },
  {
   "cell_type": "code",
   "execution_count": null,
   "metadata": {},
   "outputs": [],
   "source": [
    "def pivot_lineplot(df, p_ax_title):\n",
    "    sns.set(style=\"whitegrid\")\n",
    "    \n",
    "    # Initialize the matplotlib figure\n",
    "    f, ax = plt.subplots(figsize=(16, 8))\n",
    "\n",
    "    sns.set_color_codes(\"pastel\")\n",
    "    #sns.color_palette(\"Set2\")\n",
    "    \n",
    "    ax = sns.lineplot(data=df);\n",
    "    \n",
    "    ax.set_title(p_ax_title, fontsize=16)\n",
    "    \n",
    "    plt.show();"
   ]
  },
  {
   "cell_type": "code",
   "execution_count": null,
   "metadata": {},
   "outputs": [],
   "source": [
    "def custom_barplot(df, p_x, p_y, p_ax_title):\n",
    "    sns.set(style=\"whitegrid\")\n",
    "    \n",
    "    # Initialize the matplotlib figure\n",
    "    f, ax = plt.subplots(figsize=(16, 8))\n",
    "\n",
    "    sns.set_color_codes(\"pastel\")\n",
    "    #sns.color_palette(\"Set2\")\n",
    "    \n",
    "    ax = sns.barplot(x=p_x, y=p_y, data=df)\n",
    "    \n",
    "    ax.set_title(p_ax_title, fontsize=16)\n",
    "    \n",
    "    plt.show(); "
   ]
  },
  {
   "cell_type": "code",
   "execution_count": null,
   "metadata": {},
   "outputs": [],
   "source": [
    "def custom_histplot(df, p_x, p_kde, p_discrete, p_height, p_ax_title):\n",
    "    # Initialize the matplotlib figure\n",
    "    f, ax = plt.subplots(figsize=(16, 8))\n",
    "    sns.set_color_codes(\"pastel\")\n",
    "        \n",
    "    if p_discrete:\n",
    "        #g = sns.histplot(data=df, x=p_x, stat=\"probability\", discrete=p_discrete, height=p_height, aspect=1.5)\n",
    "        g = sns.histplot(data=df, x=p_x, stat=\"probability\", discrete=p_discrete)\n",
    "    else:\n",
    "        #g = sns.histplot(data=df, x=p_x, stat=\"probability\", kde=p_kde, height=p_height, aspect=1.5)\n",
    "        g = sns.histplot(data=df, x=p_x, stat=\"probability\", kde=p_kde)\n",
    "    \n",
    "    ax.set_title(p_ax_title, fontsize=16)\n",
    "    #g.fig.suptitle(p_ax_title, fontsize=16, fontdict={\"weight\": \"bold\"})\n",
    "    #g.despine(left=True)   "
   ]
  },
  {
   "cell_type": "code",
   "execution_count": null,
   "metadata": {},
   "outputs": [],
   "source": [
    "def custom_displot(df, p_x, p_bins, p_discrete, p_height, p_ax_title):\n",
    "    \n",
    "    sns.set_color_codes(\"pastel\")\n",
    "    \n",
    "    if p_discrete:\n",
    "        g = sns.displot(df, x=p_x, bins=p_bins, height=p_height, aspect=1.5)\n",
    "    else:\n",
    "        g = sns.displot(df, x=p_x, height=p_height, aspect=1.5, discrete=True)\n",
    "    \n",
    "    g.fig.suptitle(p_ax_title, fontsize=16, fontdict={\"weight\": \"bold\"})\n",
    "    g.despine(left=True)   "
   ]
  },
  {
   "cell_type": "code",
   "execution_count": null,
   "metadata": {},
   "outputs": [],
   "source": [
    "def sns_distplot_4_subplots(p_data, p_suptitle):\n",
    "    sns.set(style=\"white\", palette=\"muted\", color_codes=True)\n",
    "\n",
    "    # Set up the matplotlib figure\n",
    "    f, axes = plt.subplots(2, 2, figsize=(8, 8), sharex=True)\n",
    "    sns.despine(left=True)\n",
    "\n",
    "    # Plot a simple histogram with binsize determined automatically\n",
    "    sns.distplot(p_data, kde=False, color=\"b\", ax=axes[0, 0])\n",
    "\n",
    "    # Plot a kernel density estimate and rug plot\n",
    "    sns.distplot(p_data, hist=False, rug=True, color=\"r\", ax=axes[0, 1])\n",
    "\n",
    "    # Plot a filled kernel density estimate\n",
    "    sns.distplot(p_data, hist=False, color=\"g\", kde_kws={\"shade\": True}, ax=axes[1, 0])\n",
    "\n",
    "    # Plot a histogram and kernel density estimate\n",
    "    sns.distplot(p_data, color=\"m\", ax=axes[1, 1])\n",
    "\n",
    "    plt.suptitle(p_suptitle, fontsize=16, y=1.0, verticalalignment = 'bottom')\n",
    "    # Adjust vertical_spacing = 0.5 * axes_height\n",
    "    #plt.subplots_adjust(hspace=0.5)\n",
    "\n",
    "    #fig.suptitle('Are we noticing Poisson distribution for Municipality Population?', fontsize=16)\n",
    "    #axes.set_title('Are we noticing Poisson distribution for Municipality Population?', fontsize=16)\n",
    "    axes[0, 0].set_title(\"A simple histogram with binsize\", verticalalignment = 'top')\n",
    "    axes[0, 1].set_title(\"A kernel density estimate and rug plot\", verticalalignment = 'top')\n",
    "    axes[1, 0].set_title(\"A filled kernel density estimate\", verticalalignment = 'top')\n",
    "    axes[1, 1].set_title(\"A histogram and kernel density estimate\", verticalalignment = 'top')\n",
    "\n",
    "    plt.setp(axes, yticks=[])\n",
    "    plt.tight_layout()\n",
    "    #log_line(f\"{distplot_messages_per_hour.__name__} was created.\")\n",
    "    plt.show()"
   ]
  },
  {
   "cell_type": "code",
   "execution_count": null,
   "metadata": {},
   "outputs": [],
   "source": [
    "def custom_boxplot_stripplot(df, p_x, p_ax_title):\n",
    "    sns.set(style=\"whitegrid\")\n",
    "    \n",
    "    # Initialize the matplotlib figure\n",
    "    f, ax = plt.subplots(figsize=(16, 8))\n",
    "    \n",
    "    p = sns.boxplot(x=p_x, data=df, showfliers = True, notch= True, width= 0.4, palette=\"Set2\")\n",
    "    p = sns.stripplot(x=p_x, data=df, color=\".25\", alpha=.5,  palette=\"Set2\", orient = 'h', jitter=0.05, size=10, marker=\"D\")\n",
    "    plt.title(p_ax_title)\n",
    "    plt.show()"
   ]
  }
 ],
 "metadata": {
  "kernelspec": {
   "display_name": "Python 3",
   "language": "python",
   "name": "python3"
  },
  "language_info": {
   "codemirror_mode": {
    "name": "ipython",
    "version": 3
   },
   "file_extension": ".py",
   "mimetype": "text/x-python",
   "name": "python",
   "nbconvert_exporter": "python",
   "pygments_lexer": "ipython3",
   "version": "3.7.3"
  }
 },
 "nbformat": 4,
 "nbformat_minor": 2
}
