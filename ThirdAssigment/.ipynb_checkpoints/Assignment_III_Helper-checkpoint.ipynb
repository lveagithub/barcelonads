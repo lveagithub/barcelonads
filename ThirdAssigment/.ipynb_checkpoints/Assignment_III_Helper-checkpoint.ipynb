{
 "cells": [
  {
   "cell_type": "markdown",
   "metadata": {},
   "source": [
    "## General methods"
   ]
  },
  {
   "cell_type": "code",
   "execution_count": null,
   "metadata": {},
   "outputs": [],
   "source": [
    "import numpy as np\n",
    "import pandas as pd\n",
    "import geopandas as gpd\n",
    "import gdown\n",
    "import datetime as dt\n",
    "import sqlite3\n",
    "import kaggle\n",
    "import scipy.stats as sts\n",
    "from pandas.plotting import register_matplotlib_converters\n",
    "register_matplotlib_converters()"
   ]
  },
  {
   "cell_type": "markdown",
   "metadata": {},
   "source": [
    "### Download Kaggle dataset"
   ]
  },
  {
   "cell_type": "code",
   "execution_count": null,
   "metadata": {},
   "outputs": [],
   "source": [
    "def kaggle_dataset_download(kaggle_path, kaggle_path_Name, kaggle_zip_file):\n",
    "    kaggle.api.authenticate()\n",
    "    if kaggle_zip_file:\n",
    "        kaggle.api.dataset_download_files(kaggle_path, kaggle_path_Name, unzip=True)\n",
    "    else:\n",
    "        kaggle.api.dataset_download_files(kaggle_path, kaggle_path_Name)"
   ]
  },
  {
   "cell_type": "markdown",
   "metadata": {},
   "source": [
    "### General Methods"
   ]
  },
  {
   "cell_type": "code",
   "execution_count": null,
   "metadata": {},
   "outputs": [],
   "source": [
    "def get_nulls_data(df):\n",
    "    #We want to know the quality of data. So, let's start by detecting not null percentage related to every column. \n",
    "    \n",
    "    df_tot_nulls = df.isnull().sum().sort_values(ascending=False)\n",
    "    df_tot_nulls_perc = 100 - round(df_tot_nulls/len(df)*100,2)\n",
    "    df_tot_perc_nulls = pd.concat([df_tot_nulls,df_tot_nulls_perc],axis=1)\n",
    "    df_tot_perc_nulls = df_tot_perc_nulls.rename(columns={0: \"Total\", 1: \"PercNotNull\"})\n",
    "    return df_tot_perc_nulls"
   ]
  },
  {
   "cell_type": "code",
   "execution_count": null,
   "metadata": {},
   "outputs": [],
   "source": [
    "def get_compound_acceptance_index(row):\n",
    "    if row['Sentiment'] == 'Extremely Positive':\n",
    "      return 1\n",
    "    if row['Sentiment'] == 'Positive':\n",
    "      return 0.5\n",
    "    if row['Sentiment'] == 'Neutral':\n",
    "      return 0\n",
    "    if row['Sentiment'] == 'Negative':\n",
    "      return -0.5\n",
    "    if row['Sentiment'] == 'Extremely Negative':\n",
    "      return -1\n",
    "    return 0"
   ]
  },
  {
   "cell_type": "code",
   "execution_count": null,
   "metadata": {},
   "outputs": [],
   "source": [
    "def ttest_hypothesis_determination(pval, p_alpha):\n",
    "    # Example: If alpha (significance) value is 0.05 or 5% it means 95% of confidence\n",
    "    confidence_perc = 1 - p_alpha\n",
    "    confidence_perc = 100 * confidence_perc\n",
    "    \n",
    "    p_alpha_perc = 100 * p_alpha\n",
    "    \n",
    "    str_H1 = \"I have enough evidence to reject H0. Therefore, I assume H1 with a confidence of {0}% and significance of {1}%\"\n",
    "    str_H0 = \"I don't have enough evidence to reject H0. So we accept is true with a confidence of {0}% and significance of {1}%\"\n",
    "    \n",
    "    if pval < p_alpha:\n",
    "       print(str_H1.format(confidence_perc,p_alpha_perc))\n",
    "    else:\n",
    "      print(str_H0.format(confidence_perc, p_alpha_perc))"
   ]
  },
  {
   "cell_type": "code",
   "execution_count": null,
   "metadata": {},
   "outputs": [],
   "source": [
    "def build_geodf(df, lat_col_name='latitude', lon_col_name='longitude'):\n",
    "    df = df.copy()\n",
    "    lat = df[lat_col_name]\n",
    "    lon = df[lon_col_name]\n",
    "    return gpd.GeoDataFrame(df, geometry=gpd.points_from_xy(lon, lat))"
   ]
  }
 ],
 "metadata": {
  "kernelspec": {
   "display_name": "Python 3",
   "language": "python",
   "name": "python3"
  },
  "language_info": {
   "codemirror_mode": {
    "name": "ipython",
    "version": 3
   },
   "file_extension": ".py",
   "mimetype": "text/x-python",
   "name": "python",
   "nbconvert_exporter": "python",
   "pygments_lexer": "ipython3",
   "version": "3.7.3"
  }
 },
 "nbformat": 4,
 "nbformat_minor": 2
}
